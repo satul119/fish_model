{
 "cells": [
  {
   "cell_type": "code",
   "execution_count": 130,
   "id": "aa2045f5",
   "metadata": {},
   "outputs": [],
   "source": [
    "import pandas as pd\n",
    "import numpy as np\n",
    "from sklearn.model_selection import train_test_split\n",
    "from sklearn.linear_model import LinearRegression\n",
    "from sklearn.metrics import mean_squared_error,mean_absolute_error, r2_score\n",
    "import matplotlib.pyplot as plt\n",
    "import seaborn as sns\n",
    "from statsmodels.stats.outliers_influence import variance_inflation_factor\n",
    "import warnings\n",
    "warnings.filterwarnings('ignore')"
   ]
  },
  {
   "attachments": {},
   "cell_type": "markdown",
   "id": "5f673701",
   "metadata": {},
   "source": [
    "### 1.Problem statement:"
   ]
  },
  {
   "cell_type": "raw",
   "id": "cd7a5918",
   "metadata": {},
   "source": [
    "This dataset is a record of 7 common different fish species in fish market sales. With this dataset, a predictive model can be performed using machine friendly data and estimate the weight of fish can be predicted."
   ]
  },
  {
   "attachments": {},
   "cell_type": "markdown",
   "id": "d71ebbf4",
   "metadata": {},
   "source": [
    "\n",
    "### 2.Data gathering"
   ]
  },
  {
   "cell_type": "code",
   "execution_count": 131,
   "id": "7cfdfdb3",
   "metadata": {},
   "outputs": [
    {
     "data": {
      "text/html": [
       "<div>\n",
       "<style scoped>\n",
       "    .dataframe tbody tr th:only-of-type {\n",
       "        vertical-align: middle;\n",
       "    }\n",
       "\n",
       "    .dataframe tbody tr th {\n",
       "        vertical-align: top;\n",
       "    }\n",
       "\n",
       "    .dataframe thead th {\n",
       "        text-align: right;\n",
       "    }\n",
       "</style>\n",
       "<table border=\"1\" class=\"dataframe\">\n",
       "  <thead>\n",
       "    <tr style=\"text-align: right;\">\n",
       "      <th></th>\n",
       "      <th>Species</th>\n",
       "      <th>Weight</th>\n",
       "      <th>Length1</th>\n",
       "      <th>Length2</th>\n",
       "      <th>Length3</th>\n",
       "      <th>Height</th>\n",
       "      <th>Width</th>\n",
       "    </tr>\n",
       "  </thead>\n",
       "  <tbody>\n",
       "    <tr>\n",
       "      <th>0</th>\n",
       "      <td>Bream</td>\n",
       "      <td>242.0</td>\n",
       "      <td>23.2</td>\n",
       "      <td>25.4</td>\n",
       "      <td>30.0</td>\n",
       "      <td>11.5200</td>\n",
       "      <td>4.0200</td>\n",
       "    </tr>\n",
       "    <tr>\n",
       "      <th>1</th>\n",
       "      <td>Bream</td>\n",
       "      <td>290.0</td>\n",
       "      <td>24.0</td>\n",
       "      <td>26.3</td>\n",
       "      <td>31.2</td>\n",
       "      <td>12.4800</td>\n",
       "      <td>4.3056</td>\n",
       "    </tr>\n",
       "    <tr>\n",
       "      <th>2</th>\n",
       "      <td>Bream</td>\n",
       "      <td>340.0</td>\n",
       "      <td>23.9</td>\n",
       "      <td>26.5</td>\n",
       "      <td>31.1</td>\n",
       "      <td>12.3778</td>\n",
       "      <td>4.6961</td>\n",
       "    </tr>\n",
       "    <tr>\n",
       "      <th>3</th>\n",
       "      <td>Bream</td>\n",
       "      <td>363.0</td>\n",
       "      <td>26.3</td>\n",
       "      <td>29.0</td>\n",
       "      <td>33.5</td>\n",
       "      <td>12.7300</td>\n",
       "      <td>4.4555</td>\n",
       "    </tr>\n",
       "    <tr>\n",
       "      <th>4</th>\n",
       "      <td>Bream</td>\n",
       "      <td>430.0</td>\n",
       "      <td>26.5</td>\n",
       "      <td>29.0</td>\n",
       "      <td>34.0</td>\n",
       "      <td>12.4440</td>\n",
       "      <td>5.1340</td>\n",
       "    </tr>\n",
       "    <tr>\n",
       "      <th>...</th>\n",
       "      <td>...</td>\n",
       "      <td>...</td>\n",
       "      <td>...</td>\n",
       "      <td>...</td>\n",
       "      <td>...</td>\n",
       "      <td>...</td>\n",
       "      <td>...</td>\n",
       "    </tr>\n",
       "    <tr>\n",
       "      <th>154</th>\n",
       "      <td>Smelt</td>\n",
       "      <td>12.2</td>\n",
       "      <td>11.5</td>\n",
       "      <td>12.2</td>\n",
       "      <td>13.4</td>\n",
       "      <td>2.0904</td>\n",
       "      <td>1.3936</td>\n",
       "    </tr>\n",
       "    <tr>\n",
       "      <th>155</th>\n",
       "      <td>Smelt</td>\n",
       "      <td>13.4</td>\n",
       "      <td>11.7</td>\n",
       "      <td>12.4</td>\n",
       "      <td>13.5</td>\n",
       "      <td>2.4300</td>\n",
       "      <td>1.2690</td>\n",
       "    </tr>\n",
       "    <tr>\n",
       "      <th>156</th>\n",
       "      <td>Smelt</td>\n",
       "      <td>12.2</td>\n",
       "      <td>12.1</td>\n",
       "      <td>13.0</td>\n",
       "      <td>13.8</td>\n",
       "      <td>2.2770</td>\n",
       "      <td>1.2558</td>\n",
       "    </tr>\n",
       "    <tr>\n",
       "      <th>157</th>\n",
       "      <td>Smelt</td>\n",
       "      <td>19.7</td>\n",
       "      <td>13.2</td>\n",
       "      <td>14.3</td>\n",
       "      <td>15.2</td>\n",
       "      <td>2.8728</td>\n",
       "      <td>2.0672</td>\n",
       "    </tr>\n",
       "    <tr>\n",
       "      <th>158</th>\n",
       "      <td>Smelt</td>\n",
       "      <td>19.9</td>\n",
       "      <td>13.8</td>\n",
       "      <td>15.0</td>\n",
       "      <td>16.2</td>\n",
       "      <td>2.9322</td>\n",
       "      <td>1.8792</td>\n",
       "    </tr>\n",
       "  </tbody>\n",
       "</table>\n",
       "<p>159 rows × 7 columns</p>\n",
       "</div>"
      ],
      "text/plain": [
       "    Species  Weight  Length1  Length2  Length3   Height   Width\n",
       "0     Bream   242.0     23.2     25.4     30.0  11.5200  4.0200\n",
       "1     Bream   290.0     24.0     26.3     31.2  12.4800  4.3056\n",
       "2     Bream   340.0     23.9     26.5     31.1  12.3778  4.6961\n",
       "3     Bream   363.0     26.3     29.0     33.5  12.7300  4.4555\n",
       "4     Bream   430.0     26.5     29.0     34.0  12.4440  5.1340\n",
       "..      ...     ...      ...      ...      ...      ...     ...\n",
       "154   Smelt    12.2     11.5     12.2     13.4   2.0904  1.3936\n",
       "155   Smelt    13.4     11.7     12.4     13.5   2.4300  1.2690\n",
       "156   Smelt    12.2     12.1     13.0     13.8   2.2770  1.2558\n",
       "157   Smelt    19.7     13.2     14.3     15.2   2.8728  2.0672\n",
       "158   Smelt    19.9     13.8     15.0     16.2   2.9322  1.8792\n",
       "\n",
       "[159 rows x 7 columns]"
      ]
     },
     "execution_count": 131,
     "metadata": {},
     "output_type": "execute_result"
    }
   ],
   "source": [
    "df = pd.read_csv('Fish.csv')\n",
    "df"
   ]
  },
  {
   "cell_type": "code",
   "execution_count": 132,
   "id": "a72d90b1",
   "metadata": {},
   "outputs": [],
   "source": [
    "df = pd.get_dummies(df, columns=['Species'],dtype=int) "
   ]
  },
  {
   "attachments": {},
   "cell_type": "markdown",
   "id": "e6e8295e",
   "metadata": {},
   "source": [
    "### 3.EDA"
   ]
  },
  {
   "cell_type": "code",
   "execution_count": 133,
   "id": "f6f8c727",
   "metadata": {},
   "outputs": [
    {
     "name": "stdout",
     "output_type": "stream",
     "text": [
      "<class 'pandas.core.frame.DataFrame'>\n",
      "RangeIndex: 159 entries, 0 to 158\n",
      "Data columns (total 13 columns):\n",
      " #   Column             Non-Null Count  Dtype  \n",
      "---  ------             --------------  -----  \n",
      " 0   Weight             159 non-null    float64\n",
      " 1   Length1            159 non-null    float64\n",
      " 2   Length2            159 non-null    float64\n",
      " 3   Length3            159 non-null    float64\n",
      " 4   Height             159 non-null    float64\n",
      " 5   Width              159 non-null    float64\n",
      " 6   Species_Bream      159 non-null    int32  \n",
      " 7   Species_Parkki     159 non-null    int32  \n",
      " 8   Species_Perch      159 non-null    int32  \n",
      " 9   Species_Pike       159 non-null    int32  \n",
      " 10  Species_Roach      159 non-null    int32  \n",
      " 11  Species_Smelt      159 non-null    int32  \n",
      " 12  Species_Whitefish  159 non-null    int32  \n",
      "dtypes: float64(6), int32(7)\n",
      "memory usage: 11.9 KB\n"
     ]
    }
   ],
   "source": [
    "df.info()"
   ]
  },
  {
   "attachments": {},
   "cell_type": "markdown",
   "id": "be194207",
   "metadata": {},
   "source": [
    "### 4. Feature engg"
   ]
  },
  {
   "cell_type": "code",
   "execution_count": 134,
   "id": "4bece57e",
   "metadata": {},
   "outputs": [],
   "source": [
    "df = df.drop(['Length2','Length3'],axis=1,)"
   ]
  },
  {
   "attachments": {},
   "cell_type": "markdown",
   "id": "f416bcb9",
   "metadata": {},
   "source": [
    "### 5. Feature selction"
   ]
  },
  {
   "cell_type": "code",
   "execution_count": 135,
   "id": "9f66b915",
   "metadata": {},
   "outputs": [
    {
     "data": {
      "text/html": [
       "<div>\n",
       "<style scoped>\n",
       "    .dataframe tbody tr th:only-of-type {\n",
       "        vertical-align: middle;\n",
       "    }\n",
       "\n",
       "    .dataframe tbody tr th {\n",
       "        vertical-align: top;\n",
       "    }\n",
       "\n",
       "    .dataframe thead th {\n",
       "        text-align: right;\n",
       "    }\n",
       "</style>\n",
       "<table border=\"1\" class=\"dataframe\">\n",
       "  <thead>\n",
       "    <tr style=\"text-align: right;\">\n",
       "      <th></th>\n",
       "      <th>Weight</th>\n",
       "      <th>Length1</th>\n",
       "      <th>Height</th>\n",
       "      <th>Width</th>\n",
       "      <th>Species_Bream</th>\n",
       "      <th>Species_Parkki</th>\n",
       "      <th>Species_Perch</th>\n",
       "      <th>Species_Pike</th>\n",
       "      <th>Species_Roach</th>\n",
       "      <th>Species_Smelt</th>\n",
       "      <th>Species_Whitefish</th>\n",
       "    </tr>\n",
       "  </thead>\n",
       "  <tbody>\n",
       "    <tr>\n",
       "      <th>Weight</th>\n",
       "      <td>1.000000</td>\n",
       "      <td>0.915712</td>\n",
       "      <td>0.724345</td>\n",
       "      <td>0.886507</td>\n",
       "      <td>0.326795</td>\n",
       "      <td>-0.186034</td>\n",
       "      <td>-0.033240</td>\n",
       "      <td>0.310641</td>\n",
       "      <td>-0.261784</td>\n",
       "      <td>-0.337109</td>\n",
       "      <td>0.073625</td>\n",
       "    </tr>\n",
       "    <tr>\n",
       "      <th>Length1</th>\n",
       "      <td>0.915712</td>\n",
       "      <td>1.000000</td>\n",
       "      <td>0.625378</td>\n",
       "      <td>0.867050</td>\n",
       "      <td>0.216380</td>\n",
       "      <td>-0.205732</td>\n",
       "      <td>-0.037845</td>\n",
       "      <td>0.563514</td>\n",
       "      <td>-0.213250</td>\n",
       "      <td>-0.467420</td>\n",
       "      <td>0.050731</td>\n",
       "    </tr>\n",
       "    <tr>\n",
       "      <th>Height</th>\n",
       "      <td>0.724345</td>\n",
       "      <td>0.625378</td>\n",
       "      <td>1.000000</td>\n",
       "      <td>0.792881</td>\n",
       "      <td>0.772443</td>\n",
       "      <td>-0.000547</td>\n",
       "      <td>-0.191405</td>\n",
       "      <td>-0.101810</td>\n",
       "      <td>-0.202076</td>\n",
       "      <td>-0.491731</td>\n",
       "      <td>0.048951</td>\n",
       "    </tr>\n",
       "    <tr>\n",
       "      <th>Width</th>\n",
       "      <td>0.886507</td>\n",
       "      <td>0.867050</td>\n",
       "      <td>0.792881</td>\n",
       "      <td>1.000000</td>\n",
       "      <td>0.319347</td>\n",
       "      <td>-0.194147</td>\n",
       "      <td>0.144021</td>\n",
       "      <td>0.137722</td>\n",
       "      <td>-0.171465</td>\n",
       "      <td>-0.569018</td>\n",
       "      <td>0.124388</td>\n",
       "    </tr>\n",
       "    <tr>\n",
       "      <th>Species_Bream</th>\n",
       "      <td>0.326795</td>\n",
       "      <td>0.216380</td>\n",
       "      <td>0.772443</td>\n",
       "      <td>0.319347</td>\n",
       "      <td>1.000000</td>\n",
       "      <td>-0.144840</td>\n",
       "      <td>-0.391741</td>\n",
       "      <td>-0.183825</td>\n",
       "      <td>-0.201526</td>\n",
       "      <td>-0.165083</td>\n",
       "      <td>-0.105209</td>\n",
       "    </tr>\n",
       "    <tr>\n",
       "      <th>Species_Parkki</th>\n",
       "      <td>-0.186034</td>\n",
       "      <td>-0.205732</td>\n",
       "      <td>-0.000547</td>\n",
       "      <td>-0.194147</td>\n",
       "      <td>-0.144840</td>\n",
       "      <td>1.000000</td>\n",
       "      <td>-0.201021</td>\n",
       "      <td>-0.094329</td>\n",
       "      <td>-0.103413</td>\n",
       "      <td>-0.084712</td>\n",
       "      <td>-0.053988</td>\n",
       "    </tr>\n",
       "    <tr>\n",
       "      <th>Species_Perch</th>\n",
       "      <td>-0.033240</td>\n",
       "      <td>-0.037845</td>\n",
       "      <td>-0.191405</td>\n",
       "      <td>0.144021</td>\n",
       "      <td>-0.391741</td>\n",
       "      <td>-0.201021</td>\n",
       "      <td>1.000000</td>\n",
       "      <td>-0.255127</td>\n",
       "      <td>-0.279694</td>\n",
       "      <td>-0.229116</td>\n",
       "      <td>-0.146018</td>\n",
       "    </tr>\n",
       "    <tr>\n",
       "      <th>Species_Pike</th>\n",
       "      <td>0.310641</td>\n",
       "      <td>0.563514</td>\n",
       "      <td>-0.101810</td>\n",
       "      <td>0.137722</td>\n",
       "      <td>-0.183825</td>\n",
       "      <td>-0.094329</td>\n",
       "      <td>-0.255127</td>\n",
       "      <td>1.000000</td>\n",
       "      <td>-0.131247</td>\n",
       "      <td>-0.107513</td>\n",
       "      <td>-0.068519</td>\n",
       "    </tr>\n",
       "    <tr>\n",
       "      <th>Species_Roach</th>\n",
       "      <td>-0.261784</td>\n",
       "      <td>-0.213250</td>\n",
       "      <td>-0.202076</td>\n",
       "      <td>-0.171465</td>\n",
       "      <td>-0.201526</td>\n",
       "      <td>-0.103413</td>\n",
       "      <td>-0.279694</td>\n",
       "      <td>-0.131247</td>\n",
       "      <td>1.000000</td>\n",
       "      <td>-0.117866</td>\n",
       "      <td>-0.075117</td>\n",
       "    </tr>\n",
       "    <tr>\n",
       "      <th>Species_Smelt</th>\n",
       "      <td>-0.337109</td>\n",
       "      <td>-0.467420</td>\n",
       "      <td>-0.491731</td>\n",
       "      <td>-0.569018</td>\n",
       "      <td>-0.165083</td>\n",
       "      <td>-0.084712</td>\n",
       "      <td>-0.229116</td>\n",
       "      <td>-0.107513</td>\n",
       "      <td>-0.117866</td>\n",
       "      <td>1.000000</td>\n",
       "      <td>-0.061533</td>\n",
       "    </tr>\n",
       "    <tr>\n",
       "      <th>Species_Whitefish</th>\n",
       "      <td>0.073625</td>\n",
       "      <td>0.050731</td>\n",
       "      <td>0.048951</td>\n",
       "      <td>0.124388</td>\n",
       "      <td>-0.105209</td>\n",
       "      <td>-0.053988</td>\n",
       "      <td>-0.146018</td>\n",
       "      <td>-0.068519</td>\n",
       "      <td>-0.075117</td>\n",
       "      <td>-0.061533</td>\n",
       "      <td>1.000000</td>\n",
       "    </tr>\n",
       "  </tbody>\n",
       "</table>\n",
       "</div>"
      ],
      "text/plain": [
       "                     Weight   Length1    Height     Width  Species_Bream  \\\n",
       "Weight             1.000000  0.915712  0.724345  0.886507       0.326795   \n",
       "Length1            0.915712  1.000000  0.625378  0.867050       0.216380   \n",
       "Height             0.724345  0.625378  1.000000  0.792881       0.772443   \n",
       "Width              0.886507  0.867050  0.792881  1.000000       0.319347   \n",
       "Species_Bream      0.326795  0.216380  0.772443  0.319347       1.000000   \n",
       "Species_Parkki    -0.186034 -0.205732 -0.000547 -0.194147      -0.144840   \n",
       "Species_Perch     -0.033240 -0.037845 -0.191405  0.144021      -0.391741   \n",
       "Species_Pike       0.310641  0.563514 -0.101810  0.137722      -0.183825   \n",
       "Species_Roach     -0.261784 -0.213250 -0.202076 -0.171465      -0.201526   \n",
       "Species_Smelt     -0.337109 -0.467420 -0.491731 -0.569018      -0.165083   \n",
       "Species_Whitefish  0.073625  0.050731  0.048951  0.124388      -0.105209   \n",
       "\n",
       "                   Species_Parkki  Species_Perch  Species_Pike  Species_Roach  \\\n",
       "Weight                  -0.186034      -0.033240      0.310641      -0.261784   \n",
       "Length1                 -0.205732      -0.037845      0.563514      -0.213250   \n",
       "Height                  -0.000547      -0.191405     -0.101810      -0.202076   \n",
       "Width                   -0.194147       0.144021      0.137722      -0.171465   \n",
       "Species_Bream           -0.144840      -0.391741     -0.183825      -0.201526   \n",
       "Species_Parkki           1.000000      -0.201021     -0.094329      -0.103413   \n",
       "Species_Perch           -0.201021       1.000000     -0.255127      -0.279694   \n",
       "Species_Pike            -0.094329      -0.255127      1.000000      -0.131247   \n",
       "Species_Roach           -0.103413      -0.279694     -0.131247       1.000000   \n",
       "Species_Smelt           -0.084712      -0.229116     -0.107513      -0.117866   \n",
       "Species_Whitefish       -0.053988      -0.146018     -0.068519      -0.075117   \n",
       "\n",
       "                   Species_Smelt  Species_Whitefish  \n",
       "Weight                 -0.337109           0.073625  \n",
       "Length1                -0.467420           0.050731  \n",
       "Height                 -0.491731           0.048951  \n",
       "Width                  -0.569018           0.124388  \n",
       "Species_Bream          -0.165083          -0.105209  \n",
       "Species_Parkki         -0.084712          -0.053988  \n",
       "Species_Perch          -0.229116          -0.146018  \n",
       "Species_Pike           -0.107513          -0.068519  \n",
       "Species_Roach          -0.117866          -0.075117  \n",
       "Species_Smelt           1.000000          -0.061533  \n",
       "Species_Whitefish      -0.061533           1.000000  "
      ]
     },
     "execution_count": 135,
     "metadata": {},
     "output_type": "execute_result"
    }
   ],
   "source": [
    "df.corr()"
   ]
  },
  {
   "cell_type": "code",
   "execution_count": 136,
   "id": "d6d8438b",
   "metadata": {},
   "outputs": [
    {
     "data": {
      "text/plain": [
       "<Axes: >"
      ]
     },
     "execution_count": 136,
     "metadata": {},
     "output_type": "execute_result"
    },
    {
     "data": {
      "image/png": "[encoded data removed]",
      "text/plain": [
       "<Figure size 2000x1000 with 2 Axes>"
      ]
     },
     "metadata": {},
     "output_type": "display_data"
    }
   ],
   "source": [
    "plt.figure(figsize=(20,10))\n",
    "sns.heatmap(df.corr(),annot=True)"
   ]
  },
  {
   "cell_type": "code",
   "execution_count": 137,
   "id": "e76e8ebb",
   "metadata": {},
   "outputs": [],
   "source": [
    "x = df.drop('Weight',axis=1)\n",
    "y = df['Weight']"
   ]
  },
  {
   "cell_type": "code",
   "execution_count": 138,
   "id": "ce95a068",
   "metadata": {},
   "outputs": [
    {
     "data": {
      "text/html": [
       "<div>\n",
       "<style scoped>\n",
       "    .dataframe tbody tr th:only-of-type {\n",
       "        vertical-align: middle;\n",
       "    }\n",
       "\n",
       "    .dataframe tbody tr th {\n",
       "        vertical-align: top;\n",
       "    }\n",
       "\n",
       "    .dataframe thead th {\n",
       "        text-align: right;\n",
       "    }\n",
       "</style>\n",
       "<table border=\"1\" class=\"dataframe\">\n",
       "  <thead>\n",
       "    <tr style=\"text-align: right;\">\n",
       "      <th></th>\n",
       "      <th>Length1</th>\n",
       "      <th>Height</th>\n",
       "      <th>Width</th>\n",
       "      <th>Species_Bream</th>\n",
       "      <th>Species_Parkki</th>\n",
       "      <th>Species_Perch</th>\n",
       "      <th>Species_Pike</th>\n",
       "      <th>Species_Roach</th>\n",
       "      <th>Species_Smelt</th>\n",
       "      <th>Species_Whitefish</th>\n",
       "    </tr>\n",
       "  </thead>\n",
       "  <tbody>\n",
       "    <tr>\n",
       "      <th>0</th>\n",
       "      <td>23.2</td>\n",
       "      <td>11.5200</td>\n",
       "      <td>4.0200</td>\n",
       "      <td>1</td>\n",
       "      <td>0</td>\n",
       "      <td>0</td>\n",
       "      <td>0</td>\n",
       "      <td>0</td>\n",
       "      <td>0</td>\n",
       "      <td>0</td>\n",
       "    </tr>\n",
       "    <tr>\n",
       "      <th>1</th>\n",
       "      <td>24.0</td>\n",
       "      <td>12.4800</td>\n",
       "      <td>4.3056</td>\n",
       "      <td>1</td>\n",
       "      <td>0</td>\n",
       "      <td>0</td>\n",
       "      <td>0</td>\n",
       "      <td>0</td>\n",
       "      <td>0</td>\n",
       "      <td>0</td>\n",
       "    </tr>\n",
       "    <tr>\n",
       "      <th>2</th>\n",
       "      <td>23.9</td>\n",
       "      <td>12.3778</td>\n",
       "      <td>4.6961</td>\n",
       "      <td>1</td>\n",
       "      <td>0</td>\n",
       "      <td>0</td>\n",
       "      <td>0</td>\n",
       "      <td>0</td>\n",
       "      <td>0</td>\n",
       "      <td>0</td>\n",
       "    </tr>\n",
       "    <tr>\n",
       "      <th>3</th>\n",
       "      <td>26.3</td>\n",
       "      <td>12.7300</td>\n",
       "      <td>4.4555</td>\n",
       "      <td>1</td>\n",
       "      <td>0</td>\n",
       "      <td>0</td>\n",
       "      <td>0</td>\n",
       "      <td>0</td>\n",
       "      <td>0</td>\n",
       "      <td>0</td>\n",
       "    </tr>\n",
       "    <tr>\n",
       "      <th>4</th>\n",
       "      <td>26.5</td>\n",
       "      <td>12.4440</td>\n",
       "      <td>5.1340</td>\n",
       "      <td>1</td>\n",
       "      <td>0</td>\n",
       "      <td>0</td>\n",
       "      <td>0</td>\n",
       "      <td>0</td>\n",
       "      <td>0</td>\n",
       "      <td>0</td>\n",
       "    </tr>\n",
       "    <tr>\n",
       "      <th>...</th>\n",
       "      <td>...</td>\n",
       "      <td>...</td>\n",
       "      <td>...</td>\n",
       "      <td>...</td>\n",
       "      <td>...</td>\n",
       "      <td>...</td>\n",
       "      <td>...</td>\n",
       "      <td>...</td>\n",
       "      <td>...</td>\n",
       "      <td>...</td>\n",
       "    </tr>\n",
       "    <tr>\n",
       "      <th>154</th>\n",
       "      <td>11.5</td>\n",
       "      <td>2.0904</td>\n",
       "      <td>1.3936</td>\n",
       "      <td>0</td>\n",
       "      <td>0</td>\n",
       "      <td>0</td>\n",
       "      <td>0</td>\n",
       "      <td>0</td>\n",
       "      <td>1</td>\n",
       "      <td>0</td>\n",
       "    </tr>\n",
       "    <tr>\n",
       "      <th>155</th>\n",
       "      <td>11.7</td>\n",
       "      <td>2.4300</td>\n",
       "      <td>1.2690</td>\n",
       "      <td>0</td>\n",
       "      <td>0</td>\n",
       "      <td>0</td>\n",
       "      <td>0</td>\n",
       "      <td>0</td>\n",
       "      <td>1</td>\n",
       "      <td>0</td>\n",
       "    </tr>\n",
       "    <tr>\n",
       "      <th>156</th>\n",
       "      <td>12.1</td>\n",
       "      <td>2.2770</td>\n",
       "      <td>1.2558</td>\n",
       "      <td>0</td>\n",
       "      <td>0</td>\n",
       "      <td>0</td>\n",
       "      <td>0</td>\n",
       "      <td>0</td>\n",
       "      <td>1</td>\n",
       "      <td>0</td>\n",
       "    </tr>\n",
       "    <tr>\n",
       "      <th>157</th>\n",
       "      <td>13.2</td>\n",
       "      <td>2.8728</td>\n",
       "      <td>2.0672</td>\n",
       "      <td>0</td>\n",
       "      <td>0</td>\n",
       "      <td>0</td>\n",
       "      <td>0</td>\n",
       "      <td>0</td>\n",
       "      <td>1</td>\n",
       "      <td>0</td>\n",
       "    </tr>\n",
       "    <tr>\n",
       "      <th>158</th>\n",
       "      <td>13.8</td>\n",
       "      <td>2.9322</td>\n",
       "      <td>1.8792</td>\n",
       "      <td>0</td>\n",
       "      <td>0</td>\n",
       "      <td>0</td>\n",
       "      <td>0</td>\n",
       "      <td>0</td>\n",
       "      <td>1</td>\n",
       "      <td>0</td>\n",
       "    </tr>\n",
       "  </tbody>\n",
       "</table>\n",
       "<p>159 rows × 10 columns</p>\n",
       "</div>"
      ],
      "text/plain": [
       "     Length1   Height   Width  Species_Bream  Species_Parkki  Species_Perch  \\\n",
       "0       23.2  11.5200  4.0200              1               0              0   \n",
       "1       24.0  12.4800  4.3056              1               0              0   \n",
       "2       23.9  12.3778  4.6961              1               0              0   \n",
       "3       26.3  12.7300  4.4555              1               0              0   \n",
       "4       26.5  12.4440  5.1340              1               0              0   \n",
       "..       ...      ...     ...            ...             ...            ...   \n",
       "154     11.5   2.0904  1.3936              0               0              0   \n",
       "155     11.7   2.4300  1.2690              0               0              0   \n",
       "156     12.1   2.2770  1.2558              0               0              0   \n",
       "157     13.2   2.8728  2.0672              0               0              0   \n",
       "158     13.8   2.9322  1.8792              0               0              0   \n",
       "\n",
       "     Species_Pike  Species_Roach  Species_Smelt  Species_Whitefish  \n",
       "0               0              0              0                  0  \n",
       "1               0              0              0                  0  \n",
       "2               0              0              0                  0  \n",
       "3               0              0              0                  0  \n",
       "4               0              0              0                  0  \n",
       "..            ...            ...            ...                ...  \n",
       "154             0              0              1                  0  \n",
       "155             0              0              1                  0  \n",
       "156             0              0              1                  0  \n",
       "157             0              0              1                  0  \n",
       "158             0              0              1                  0  \n",
       "\n",
       "[159 rows x 10 columns]"
      ]
     },
     "execution_count": 138,
     "metadata": {},
     "output_type": "execute_result"
    }
   ],
   "source": [
    "x"
   ]
  },
  {
   "cell_type": "code",
   "execution_count": 140,
   "id": "e4762743",
   "metadata": {},
   "outputs": [
    {
     "data": {
      "text/plain": [
       "Length1              27.038193\n",
       "Height               54.308628\n",
       "Width                28.647082\n",
       "Species_Bream        27.830135\n",
       "Species_Parkki        3.853668\n",
       "Species_Perch         7.001745\n",
       "Species_Pike         12.901627\n",
       "Species_Roach         2.402022\n",
       "Species_Smelt         1.638307\n",
       "Species_Whitefish     1.862091\n",
       "dtype: float64"
      ]
     },
     "execution_count": 140,
     "metadata": {},
     "output_type": "execute_result"
    }
   ],
   "source": [
    "vif_list = []\n",
    "for i in range(x.shape[1]):\n",
    "    vif = variance_inflation_factor(x.to_numpy(), i)\n",
    "    vif_list.append(vif)\n",
    "\n",
    "vif_values = pd.Series(vif_list, index = x.columns)\n",
    "vif_values"
   ]
  },
  {
   "attachments": {},
   "cell_type": "markdown",
   "id": "313ae70e",
   "metadata": {},
   "source": [
    "### 6Model Building"
   ]
  },
  {
   "cell_type": "code",
   "execution_count": 141,
   "id": "5206f2a5",
   "metadata": {},
   "outputs": [],
   "source": [
    "x_train,x_test,y_train,y_test = train_test_split(x,y,test_size=0.2,random_state=11)"
   ]
  },
  {
   "cell_type": "code",
   "execution_count": 142,
   "id": "06aac826",
   "metadata": {},
   "outputs": [],
   "source": [
    "Linear_reg = LinearRegression()"
   ]
  },
  {
   "cell_type": "code",
   "execution_count": 143,
   "id": "36709d8b",
   "metadata": {},
   "outputs": [
    {
     "data": {
      "text/html": [
       "<style>#sk-container-id-3 {color: black;background-color: white;}#sk-container-id-3 pre{padding: 0;}#sk-container-id-3 div.sk-toggleable {background-color: white;}#sk-container-id-3 label.sk-toggleable__label {cursor: pointer;display: block;width: 100%;margin-bottom: 0;padding: 0.3em;box-sizing: border-box;text-align: center;}#sk-container-id-3 label.sk-toggleable__label-arrow:before {content: \"▸\";float: left;margin-right: 0.25em;color: #696969;}#sk-container-id-3 label.sk-toggleable__label-arrow:hover:before {color: black;}#sk-container-id-3 div.sk-estimator:hover label.sk-toggleable__label-arrow:before {color: black;}#sk-container-id-3 div.sk-toggleable__content {max-height: 0;max-width: 0;overflow: hidden;text-align: left;background-color: #f0f8ff;}#sk-container-id-3 div.sk-toggleable__content pre {margin: 0.2em;color: black;border-radius: 0.25em;background-color: #f0f8ff;}#sk-container-id-3 input.sk-toggleable__control:checked~div.sk-toggleable__content {max-height: 200px;max-width: 100%;overflow: auto;}#sk-container-id-3 input.sk-toggleable__control:checked~label.sk-toggleable__label-arrow:before {content: \"▾\";}#sk-container-id-3 div.sk-estimator input.sk-toggleable__control:checked~label.sk-toggleable__label {background-color: #d4ebff;}#sk-container-id-3 div.sk-label input.sk-toggleable__control:checked~label.sk-toggleable__label {background-color: #d4ebff;}#sk-container-id-3 input.sk-hidden--visually {border: 0;clip: rect(1px 1px 1px 1px);clip: rect(1px, 1px, 1px, 1px);height: 1px;margin: -1px;overflow: hidden;padding: 0;position: absolute;width: 1px;}#sk-container-id-3 div.sk-estimator {font-family: monospace;background-color: #f0f8ff;border: 1px dotted black;border-radius: 0.25em;box-sizing: border-box;margin-bottom: 0.5em;}#sk-container-id-3 div.sk-estimator:hover {background-color: #d4ebff;}#sk-container-id-3 div.sk-parallel-item::after {content: \"\";width: 100%;border-bottom: 1px solid gray;flex-grow: 1;}#sk-container-id-3 div.sk-label:hover label.sk-toggleable__label {background-color: #d4ebff;}#sk-container-id-3 div.sk-serial::before {content: \"\";position: absolute;border-left: 1px solid gray;box-sizing: border-box;top: 0;bottom: 0;left: 50%;z-index: 0;}#sk-container-id-3 div.sk-serial {display: flex;flex-direction: column;align-items: center;background-color: white;padding-right: 0.2em;padding-left: 0.2em;position: relative;}#sk-container-id-3 div.sk-item {position: relative;z-index: 1;}#sk-container-id-3 div.sk-parallel {display: flex;align-items: stretch;justify-content: center;background-color: white;position: relative;}#sk-container-id-3 div.sk-item::before, #sk-container-id-3 div.sk-parallel-item::before {content: \"\";position: absolute;border-left: 1px solid gray;box-sizing: border-box;top: 0;bottom: 0;left: 50%;z-index: -1;}#sk-container-id-3 div.sk-parallel-item {display: flex;flex-direction: column;z-index: 1;position: relative;background-color: white;}#sk-container-id-3 div.sk-parallel-item:first-child::after {align-self: flex-end;width: 50%;}#sk-container-id-3 div.sk-parallel-item:last-child::after {align-self: flex-start;width: 50%;}#sk-container-id-3 div.sk-parallel-item:only-child::after {width: 0;}#sk-container-id-3 div.sk-dashed-wrapped {border: 1px dashed gray;margin: 0 0.4em 0.5em 0.4em;box-sizing: border-box;padding-bottom: 0.4em;background-color: white;}#sk-container-id-3 div.sk-label label {font-family: monospace;font-weight: bold;display: inline-block;line-height: 1.2em;}#sk-container-id-3 div.sk-label-container {text-align: center;}#sk-container-id-3 div.sk-container {/* jupyter's `normalize.less` sets `[hidden] { display: none; }` but bootstrap.min.css set `[hidden] { display: none !important; }` so we also need the `!important` here to be able to override the default hidden behavior on the sphinx rendered scikit-learn.org. See: https://github.com/scikit-learn/scikit-learn/issues/21755 */display: inline-block !important;position: relative;}#sk-container-id-3 div.sk-text-repr-fallback {display: none;}</style><div id=\"sk-container-id-3\" class=\"sk-top-container\"><div class=\"sk-text-repr-fallback\"><pre>LinearRegression()</pre><b>In a Jupyter environment, please rerun this cell to show the HTML representation or trust the notebook. <br />On GitHub, the HTML representation is unable to render, please try loading this page with nbviewer.org.</b></div><div class=\"sk-container\" hidden><div class=\"sk-item\"><div class=\"sk-estimator sk-toggleable\"><input class=\"sk-toggleable__control sk-hidden--visually\" id=\"sk-estimator-id-3\" type=\"checkbox\" checked><label for=\"sk-estimator-id-3\" class=\"sk-toggleable__label sk-toggleable__label-arrow\">LinearRegression</label><div class=\"sk-toggleable__content\"><pre>LinearRegression()</pre></div></div></div></div></div>"
      ],
      "text/plain": [
       "LinearRegression()"
      ]
     },
     "execution_count": 143,
     "metadata": {},
     "output_type": "execute_result"
    }
   ],
   "source": [
    "Linear_reg.fit(x_train,y_train)"
   ]
  },
  {
   "cell_type": "code",
   "execution_count": 144,
   "id": "f6dd9178",
   "metadata": {},
   "outputs": [
    {
     "data": {
      "text/plain": [
       "array([  44.06076437,   12.7538543 ,  -30.41415751,  -13.49974702,\n",
       "         43.12753426,   13.63113918, -337.27052841,    9.82741713,\n",
       "        250.85810831,   33.32607655])"
      ]
     },
     "execution_count": 144,
     "metadata": {},
     "output_type": "execute_result"
    }
   ],
   "source": [
    "Linear_reg.coef_"
   ]
  },
  {
   "cell_type": "code",
   "execution_count": 145,
   "id": "9afa0329",
   "metadata": {},
   "outputs": [
    {
     "data": {
      "text/plain": [
       "-732.7029085076292"
      ]
     },
     "execution_count": 145,
     "metadata": {},
     "output_type": "execute_result"
    }
   ],
   "source": [
    "Linear_reg.intercept_"
   ]
  },
  {
   "attachments": {},
   "cell_type": "markdown",
   "id": "575bc634",
   "metadata": {},
   "source": [
    "### Model Evaluation"
   ]
  },
  {
   "cell_type": "code",
   "execution_count": 146,
   "id": "552be820",
   "metadata": {},
   "outputs": [
    {
     "data": {
      "text/plain": [
       "array([ -19.8471456 ,  106.43631496,  540.13714002, -184.12060036,\n",
       "        358.16135197,  687.19559856,  136.43332623,   94.0697007 ,\n",
       "        576.36682091,  842.11682287,  720.43777758,  -49.71493672,\n",
       "        -37.57692402,  215.23671561,  679.09588339,  828.51255825,\n",
       "        555.200021  ,  156.27005487,  784.7126697 ,  834.16329075,\n",
       "        855.95089233,  803.27525628,  -39.70532334,  -81.76516106,\n",
       "        313.17770662,  224.21816477,   41.76288392,  288.54231252,\n",
       "        311.02988399,   92.95886066,  321.88634573,  622.32480491])"
      ]
     },
     "execution_count": 146,
     "metadata": {},
     "output_type": "execute_result"
    }
   ],
   "source": [
    "y_pred = Linear_reg.predict(x_test)\n",
    "y_pred"
   ]
  },
  {
   "cell_type": "code",
   "execution_count": 147,
   "id": "5a36ca91",
   "metadata": {},
   "outputs": [
    {
     "data": {
      "text/plain": [
       "150     28.547146\n",
       "158    -86.536315\n",
       "9      -40.137140\n",
       "73     216.120600\n",
       "104    -93.161352\n",
       "26      32.804401\n",
       "86     -16.433326\n",
       "41      15.930299\n",
       "15      23.633179\n",
       "121    172.883177\n",
       "137   -220.437778\n",
       "147     56.714937\n",
       "148     47.276924\n",
       "97     -70.236716\n",
       "22     -59.095883\n",
       "118     -8.512558\n",
       "11     -55.200021\n",
       "66     -16.270055\n",
       "138   -217.712670\n",
       "30      85.836709\n",
       "122    -35.950892\n",
       "116     96.724744\n",
       "77     139.705323\n",
       "145     88.465161\n",
       "130    -13.177707\n",
       "49     -63.218165\n",
       "63      48.237116\n",
       "51    -108.542313\n",
       "52     -21.029884\n",
       "83      22.041139\n",
       "2       18.113654\n",
       "111    217.675195\n",
       "Name: Weight, dtype: float64"
      ]
     },
     "execution_count": 147,
     "metadata": {},
     "output_type": "execute_result"
    }
   ],
   "source": [
    "resudial = y_test-y_pred\n",
    "resudial"
   ]
  },
  {
   "cell_type": "code",
   "execution_count": 148,
   "id": "21f91dec",
   "metadata": {},
   "outputs": [],
   "source": [
    "# Testing Data Evaluation"
   ]
  },
  {
   "cell_type": "code",
   "execution_count": 149,
   "id": "dd3723a4",
   "metadata": {},
   "outputs": [
    {
     "data": {
      "text/plain": [
       "10089.95606456702"
      ]
     },
     "execution_count": 149,
     "metadata": {},
     "output_type": "execute_result"
    }
   ],
   "source": [
    "mse = mean_squared_error(y_test, y_pred)\n",
    "mse"
   ]
  },
  {
   "cell_type": "code",
   "execution_count": 150,
   "id": "301d9d81",
   "metadata": {},
   "outputs": [
    {
     "data": {
      "text/plain": [
       "76.13632748850665"
      ]
     },
     "execution_count": 150,
     "metadata": {},
     "output_type": "execute_result"
    }
   ],
   "source": [
    "mae= mean_absolute_error(y_test,y_pred)\n",
    "mae"
   ]
  },
  {
   "cell_type": "code",
   "execution_count": 151,
   "id": "cfa74e4c",
   "metadata": {},
   "outputs": [
    {
     "data": {
      "text/plain": [
       "100.4487733353027"
      ]
     },
     "execution_count": 151,
     "metadata": {},
     "output_type": "execute_result"
    }
   ],
   "source": [
    "rmse = np.sqrt(mse)\n",
    "rmse"
   ]
  },
  {
   "cell_type": "code",
   "execution_count": 152,
   "id": "f1b92892",
   "metadata": {},
   "outputs": [
    {
     "data": {
      "text/plain": [
       "0.9011522576207528"
      ]
     },
     "execution_count": 152,
     "metadata": {},
     "output_type": "execute_result"
    }
   ],
   "source": [
    "r2_value = r2_score(y_test,y_pred)\n",
    "r2_value"
   ]
  },
  {
   "cell_type": "code",
   "execution_count": 153,
   "id": "d9dab379",
   "metadata": {},
   "outputs": [
    {
     "data": {
      "text/plain": [
       "0.8540819041068255"
      ]
     },
     "execution_count": 153,
     "metadata": {},
     "output_type": "execute_result"
    }
   ],
   "source": [
    "n = x_test.shape[0]\n",
    "k = x_test.shape[1]\n",
    "adj_r2 = 1 - ((1 - r2_value) * (n-1))/(n-k-1)\n",
    "adj_r2"
   ]
  },
  {
   "cell_type": "code",
   "execution_count": 154,
   "id": "ac0a2ee4",
   "metadata": {},
   "outputs": [],
   "source": [
    "# Training Data Evaluation"
   ]
  },
  {
   "cell_type": "code",
   "execution_count": 155,
   "id": "0b7708ba",
   "metadata": {},
   "outputs": [
    {
     "name": "stdout",
     "output_type": "stream",
     "text": [
      "Mean Squared Error      : 8862.814381906544\n",
      "Root Mean Squared Error : 94.14252164620696\n",
      "Mean Absolute Error     : 67.7866768079948\n",
      "R-Squared Value         : 0.9335672838048309\n",
      "Adjusted R-Squared Value: 0.9278403255121439\n"
     ]
    }
   ],
   "source": [
    "# Training Data Evaluation\n",
    "y_pred_train = Linear_reg.predict(x_train)\n",
    "\n",
    "mse = mean_squared_error(y_train, y_pred_train)\n",
    "print(\"Mean Squared Error      :\", mse)\n",
    "\n",
    "rmse = np.sqrt(mse)\n",
    "print(\"Root Mean Squared Error :\",rmse)\n",
    "\n",
    "mae = mean_absolute_error(y_train, y_pred_train)\n",
    "print(\"Mean Absolute Error     :\",mae)\n",
    "\n",
    "r2_value = r2_score(y_train, y_pred_train)\n",
    "print(\"R-Squared Value         :\",r2_value)\n",
    "\n",
    "n = x_train.shape[0]\n",
    "k = x_train.shape[1]\n",
    "adj_r2 = 1 - ((1 - r2_value) * (n-1))/(n-k-1)\n",
    "print(\"Adjusted R-Squared Value:\",adj_r2)"
   ]
  },
  {
   "cell_type": "code",
   "execution_count": 158,
   "id": "84229f1f",
   "metadata": {},
   "outputs": [
    {
     "data": {
      "text/html": [
       "<div>\n",
       "<style scoped>\n",
       "    .dataframe tbody tr th:only-of-type {\n",
       "        vertical-align: middle;\n",
       "    }\n",
       "\n",
       "    .dataframe tbody tr th {\n",
       "        vertical-align: top;\n",
       "    }\n",
       "\n",
       "    .dataframe thead th {\n",
       "        text-align: right;\n",
       "    }\n",
       "</style>\n",
       "<table border=\"1\" class=\"dataframe\">\n",
       "  <thead>\n",
       "    <tr style=\"text-align: right;\">\n",
       "      <th></th>\n",
       "      <th>Length1</th>\n",
       "      <th>Height</th>\n",
       "      <th>Width</th>\n",
       "      <th>Species_Bream</th>\n",
       "      <th>Species_Parkki</th>\n",
       "      <th>Species_Perch</th>\n",
       "      <th>Species_Pike</th>\n",
       "      <th>Species_Roach</th>\n",
       "      <th>Species_Smelt</th>\n",
       "      <th>Species_Whitefish</th>\n",
       "    </tr>\n",
       "  </thead>\n",
       "  <tbody>\n",
       "    <tr>\n",
       "      <th>55</th>\n",
       "      <td>23.6</td>\n",
       "      <td>8.3804</td>\n",
       "      <td>4.2476</td>\n",
       "      <td>0</td>\n",
       "      <td>0</td>\n",
       "      <td>0</td>\n",
       "      <td>0</td>\n",
       "      <td>0</td>\n",
       "      <td>0</td>\n",
       "      <td>1</td>\n",
       "    </tr>\n",
       "  </tbody>\n",
       "</table>\n",
       "</div>"
      ],
      "text/plain": [
       "    Length1  Height   Width  Species_Bream  Species_Parkki  Species_Perch  \\\n",
       "55     23.6  8.3804  4.2476              0               0              0   \n",
       "\n",
       "    Species_Pike  Species_Roach  Species_Smelt  Species_Whitefish  \n",
       "55             0              0              0                  1  "
      ]
     },
     "execution_count": 158,
     "metadata": {},
     "output_type": "execute_result"
    }
   ],
   "source": [
    "row= x.iloc[55:56]\n",
    "row"
   ]
  },
  {
   "cell_type": "code",
   "execution_count": 159,
   "id": "140340e3",
   "metadata": {},
   "outputs": [
    {
     "data": {
      "text/plain": [
       "array([318.15243244])"
      ]
     },
     "execution_count": 159,
     "metadata": {},
     "output_type": "execute_result"
    }
   ],
   "source": [
    "Linear_reg.predict(row)"
   ]
  },
  {
   "cell_type": "code",
   "execution_count": 163,
   "id": "33fcd7ca",
   "metadata": {},
   "outputs": [
    {
     "data": {
      "text/plain": [
       "['Length1',\n",
       " 'Height',\n",
       " 'Width',\n",
       " 'Species_Bream',\n",
       " 'Species_Parkki',\n",
       " 'Species_Perch',\n",
       " 'Species_Pike',\n",
       " 'Species_Roach',\n",
       " 'Species_Smelt',\n",
       " 'Species_Whitefish']"
      ]
     },
     "execution_count": 163,
     "metadata": {},
     "output_type": "execute_result"
    }
   ],
   "source": [
    "columns_name =x.columns.tolist()\n",
    "columns_name"
   ]
  },
  {
   "cell_type": "code",
   "execution_count": 166,
   "id": "9feb29b9",
   "metadata": {},
   "outputs": [],
   "source": [
    "Length1=23.6\n",
    "Height=8.3804\n",
    "Width=4.2476\n",
    "Species='Whitefish'"
   ]
  },
  {
   "cell_type": "code",
   "execution_count": 167,
   "id": "bbb6008a",
   "metadata": {},
   "outputs": [],
   "source": [
    "Length1=23.6\n",
    "Height=8.3804\n",
    "Width=4.2476\n",
    "Species='Species_'+ Species"
   ]
  },
  {
   "cell_type": "code",
   "execution_count": 168,
   "id": "49aeb683",
   "metadata": {},
   "outputs": [
    {
     "data": {
      "text/plain": [
       "['Length1',\n",
       " 'Height',\n",
       " 'Width',\n",
       " 'Species_Bream',\n",
       " 'Species_Parkki',\n",
       " 'Species_Perch',\n",
       " 'Species_Pike',\n",
       " 'Species_Roach',\n",
       " 'Species_Smelt',\n",
       " 'Species_Whitefish']"
      ]
     },
     "execution_count": 168,
     "metadata": {},
     "output_type": "execute_result"
    }
   ],
   "source": [
    "columns_name"
   ]
  },
  {
   "cell_type": "code",
   "execution_count": 170,
   "id": "1d3da94a",
   "metadata": {},
   "outputs": [
    {
     "data": {
      "text/plain": [
       "9"
      ]
     },
     "execution_count": 170,
     "metadata": {},
     "output_type": "execute_result"
    }
   ],
   "source": [
    "Species_index = columns_name.index(Species)\n",
    "Species_index"
   ]
  },
  {
   "cell_type": "code",
   "execution_count": 173,
   "id": "abc48bff",
   "metadata": {},
   "outputs": [
    {
     "data": {
      "text/plain": [
       "array([[0., 0., 0., 0., 0., 0., 0., 0., 0., 0.]])"
      ]
     },
     "execution_count": 173,
     "metadata": {},
     "output_type": "execute_result"
    }
   ],
   "source": [
    "test_array = np.zeros([1,x.shape[1]])\n",
    "test_array"
   ]
  },
  {
   "cell_type": "code",
   "execution_count": 174,
   "id": "7b79d883",
   "metadata": {},
   "outputs": [],
   "source": [
    "test_array[0,0] = Length1\n",
    "test_array[0,1] = Height\n",
    "test_array[0,2] = Width\n",
    "test_array[0,Species_index] = 1"
   ]
  },
  {
   "cell_type": "code",
   "execution_count": 177,
   "id": "e4e4cbe8",
   "metadata": {},
   "outputs": [],
   "source": [
    "import pickle\n",
    "import json"
   ]
  },
  {
   "cell_type": "code",
   "execution_count": 178,
   "id": "22563613",
   "metadata": {},
   "outputs": [],
   "source": [
    "with open ('fish_model.pkl', 'wb') as f:\n",
    "    pickle.dump(Linear_reg,f)"
   ]
  },
  {
   "cell_type": "code",
   "execution_count": 179,
   "id": "d076203d",
   "metadata": {},
   "outputs": [],
   "source": [
    "project_data = {\"Column Names\" : columns_name}\n",
    "\n",
    "with open('proj_data.json','w') as f:\n",
    "    json.dump(project_data, f)"
   ]
  },
  {
   "cell_type": "code",
   "execution_count": null,
   "id": "ec27567f",
   "metadata": {},
   "outputs": [],
   "source": []
  }
 ],
 "metadata": {
  "kernelspec": {
   "display_name": "Python 3 (ipykernel)",
   "language": "python",
   "name": "python3"
  },
  "language_info": {
   "codemirror_mode": {
    "name": "ipython",
    "version": 3
   },
   "file_extension": ".py",
   "mimetype": "text/x-python",
   "name": "python",
   "nbconvert_exporter": "python",
   "pygments_lexer": "ipython3",
   "version": "3.11.4"
  }
 },
 "nbformat": 4,
 "nbformat_minor": 5
}
